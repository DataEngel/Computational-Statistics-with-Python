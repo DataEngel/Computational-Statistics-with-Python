{
 "cells": [
  {
   "cell_type": "markdown",
   "metadata": {},
   "source": [
    "PI calculation implementation: \n",
    "Solution of the pi estimation exercise with graphic support to understand what is happening during the simulation, the only data to consider is precision since the more significant figures are used, the computation time is exponential. "
   ]
  },
  {
   "cell_type": "code",
   "execution_count": 3,
   "metadata": {},
   "outputs": [
    {
     "name": "stdout",
     "output_type": "stream",
     "text": [
      "------------------       Iteracion number: 1      ------------------\n",
      "Standard deviation: 0.11187, Variance : 0.01252, pi estimated: 3.216\n",
      "Numero de intentos 10, Numero de puntos 100\n",
      "\n",
      "\n",
      "------------------       Iteracion number: 2      ------------------\n",
      "Standard deviation: 0.05416, Variance : 0.00293, pi estimated: 3.14196\n",
      "Numero de intentos 100, Numero de puntos 1000\n",
      "\n",
      "\n",
      "------------------       Iteracion number: 3      ------------------\n",
      "Standard deviation: 0.01676, Variance : 0.00028, pi estimated: 3.14147\n",
      "Numero de intentos 1000, Numero de puntos 10000\n",
      "\n",
      "\n"
     ]
    }
   ],
   "source": [
    "import os\n",
    "import random as random\n",
    "import math as math\n",
    "import statistics as std\n",
    "from bokeh.plotting import figure, output_file, show\n",
    "os.system('cls')\n",
    "\n",
    "tries = 10\n",
    "puntos = 100\n",
    "\n",
    "def estimar_pi(puntos):\n",
    "    in_circle_x = []\n",
    "    in_circle_y = []\n",
    "    out_circle_x = []\n",
    "    out_circle_y = []\n",
    "    pi_array =[]\n",
    "\n",
    "    for i in range(puntos):\n",
    "        pos_x = random.uniform(-1,1)\n",
    "        pos_y = random.uniform(-1,1)\n",
    "\n",
    "        if math.sqrt(pos_x**2 + pos_y**2) <= 1:\n",
    "            in_circle_x.append(pos_x)\n",
    "            in_circle_y.append(pos_y)\n",
    "        else:\n",
    "            out_circle_x.append(pos_x)\n",
    "            out_circle_y.append(pos_y)\n",
    "\n",
    "    estimate_pi = (4 * len(in_circle_x)) / puntos\n",
    "    return (estimate_pi, in_circle_x, in_circle_y, out_circle_x, out_circle_y)\n",
    "    #return ()\n",
    "\n",
    "def crear_muestra(tries):\n",
    "    pi_array =[]\n",
    "    for i in range(tries):\n",
    "        pivalor,in_circle_x, in_circle_y, out_circle_x, out_circle_y = estimar_pi(puntos)\n",
    "        pi_array.append(pivalor)\n",
    "    return (pi_array, in_circle_x, in_circle_y, out_circle_x, out_circle_y)\n",
    "\n",
    "deviation = 1# Valor inicial para poder empezar el ciclo while\n",
    "presicion = 0.1# Precision en cifras significativas para determinar el \n",
    "                    # valor estimado de pi (CUIDADO!!!!)\n",
    "\n",
    "iteration = 1\n",
    "\n",
    "while deviation >= (presicion / 1.96):\n",
    "    pi_array, in_circle_x, in_circle_y, out_circle_x, out_circle_y = crear_muestra(tries)\n",
    "    deviation = std.stdev(pi_array)\n",
    "    variance = std.variance(pi_array) \n",
    "    mean = std.mean(pi_array)\n",
    "    \n",
    "    print(f'------------------       Iteracion number: {(iteration)}      ------------------')\n",
    "    print(f'Standard deviation: {round(deviation,5)}, Variance : {round(variance,5)}, pi estimated: {round(mean,5)}')\n",
    "    print(f'Numero de intentos {tries}, Numero de puntos {puntos}\\n\\n')\n",
    "    #print(f)\n",
    "    puntos *= 10\n",
    "    tries *= 10\n",
    "    iteration += 1\n",
    "\n",
    "output_file(\"line.html\")\n",
    "plot = figure(plot_width=600, plot_height=600)\n",
    "plot.circle(in_circle_x, in_circle_y, size=5, color=\"red\", alpha=0.5)\n",
    "plot.circle(out_circle_x, out_circle_y, size=5, color=\"navy\", alpha=0.5)\n",
    "show(plot)"
   ]
  },
  {
   "cell_type": "code",
   "execution_count": null,
   "metadata": {},
   "outputs": [],
   "source": []
  }
 ],
 "metadata": {
  "kernelspec": {
   "display_name": "Python 3",
   "language": "python",
   "name": "python3"
  },
  "language_info": {
   "codemirror_mode": {
    "name": "ipython",
    "version": 3
   },
   "file_extension": ".py",
   "mimetype": "text/x-python",
   "name": "python",
   "nbconvert_exporter": "python",
   "pygments_lexer": "ipython3",
   "version": "3.7.9"
  }
 },
 "nbformat": 4,
 "nbformat_minor": 4
}
