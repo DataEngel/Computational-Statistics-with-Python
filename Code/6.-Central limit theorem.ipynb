{
 "cells": [
  {
   "cell_type": "markdown",
   "metadata": {},
   "source": [
    "Teorema del Límite Central\n",
    "RETO : DADOS\n",
    "Como se sabe los lanzamientos de datos tienen una distribución uniforme, debido a que cada número tiene las mismas posibilidades que salir que los otros 5 => (1/6). Entonces lo que hice fue crear un script donde se realiza una cantidad de lanzamientos de dados y se obtenga la cantidad de veces que salio cada número, luego seleccionar muestras de 10 lanzamientos y hallar su media.\n",
    "Con 1000 lanzamientos:"
   ]
  },
  {
   "cell_type": "code",
   "execution_count": 1,
   "metadata": {},
   "outputs": [
    {
     "name": "stdout",
     "output_type": "stream",
     "text": [
      "Cantidad de lanzamientos: 1000\n"
     ]
    }
   ],
   "source": [
    "import random\n",
    "import collections\n",
    "from bokeh.plotting import figure,show\n",
    "from bokeh.layouts import row\n",
    "\n",
    "def population(number_of_throw):\n",
    "    throws =[]\n",
    "    throws_sample=[]\n",
    "    sample_mean =[] #media de todas las muestas \n",
    "    for _ in range(number_of_throw):\n",
    "        dice = random.choice([1,2,3,4,5,6])\n",
    "        throws.append(dice)\n",
    "        throws_sample.append(dice)\n",
    "        if( _ %10==0): #promediamos la muestra de los 10 lanzamientos\n",
    "            sample = sum(throws_sample)/len(throws_sample)\n",
    "            sample_mean.append(sample)\n",
    "            throws_sample=[] \n",
    "\n",
    "    throws=sorted(throws)\n",
    "    sample_mean=sorted(sample_mean)\n",
    "    sample_mean=dict(collections.Counter(sample_mean))\n",
    "    throws=dict(collections.Counter(throws))\n",
    "    return (throws, sample_mean)\n",
    "\n",
    "def graph(values,title):\n",
    "    \n",
    "    number_of_dice=list(values.keys())\n",
    "    values_of_throws=list(values.values())\n",
    "    p = figure(title=title, x_axis_label='Number of Dice', y_axis_label='Quantity')\n",
    "    p.vbar(x=number_of_dice,top=values_of_throws,width=0.5, color=\"#CAB2D6\")\n",
    "    return p\n",
    "\n",
    "def main():\n",
    "    quantity=int(input(\"Cantidad de lanzamientos: \"))\n",
    "    values_throws,values_sample = population(quantity) #tengo x lanzamientos de dados que me da una un gráfico uniforme\n",
    "    # gráfico uniforme por que cada número del dado tiene la misma posibilidad de salir (1/6)\n",
    "    show(row(graph(values_throws,\"Dice Throws\"),graph(values_sample,\"Media Sample\")))\n",
    "\n",
    "\n",
    "if __name__ == \"__main__\":\n",
    "    main()"
   ]
  },
  {
   "cell_type": "code",
   "execution_count": null,
   "metadata": {},
   "outputs": [],
   "source": []
  }
 ],
 "metadata": {
  "kernelspec": {
   "display_name": "Python 3",
   "language": "python",
   "name": "python3"
  },
  "language_info": {
   "codemirror_mode": {
    "name": "ipython",
    "version": 3
   },
   "file_extension": ".py",
   "mimetype": "text/x-python",
   "name": "python",
   "nbconvert_exporter": "python",
   "pygments_lexer": "ipython3",
   "version": "3.7.9"
  }
 },
 "nbformat": 4,
 "nbformat_minor": 4
}
