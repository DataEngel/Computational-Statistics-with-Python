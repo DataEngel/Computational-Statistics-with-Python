{
 "cells": [
  {
   "cell_type": "code",
   "execution_count": 2,
   "metadata": {},
   "outputs": [],
   "source": [
    "from time import time\n",
    "import sys"
   ]
  },
  {
   "cell_type": "code",
   "execution_count": 3,
   "metadata": {},
   "outputs": [
    {
     "name": "stdout",
     "output_type": "stream",
     "text": [
      "Recursive Fibonacci Normal of 40 = 165580141 in 43.38807511329651[s]\n",
      "Fibonacci with Memoization 40 = 165580141 in 0.00016689300537109375[s]\n"
     ]
    }
   ],
   "source": [
    "#Define the recursive limit\n",
    "sys.setrecursionlimit(10001)\n",
    "\n",
    "#Calculate fibonacci with recursivity(n)\n",
    "def fibonacci_recursivo(n):\n",
    "    if n == 0 or n == 1:\n",
    "        return 1\n",
    "    return fibonacci_recursivo(n-1) + fibonacci_recursivo(n-2)\n",
    "\n",
    "#Calculate fibonacci saving in memory previous results\n",
    "def fibonacci_dinamico(n, memo = {}):\n",
    "    if n == 0 or n == 1:\n",
    "        return 1\n",
    "    try:\n",
    "        return memo[n]\n",
    "    except:\n",
    "        result = fibonacci_dinamico(n-1, memo) + fibonacci_dinamico(n-2, memo)\n",
    "        memo[n] = result\n",
    "\n",
    "        return result\n",
    "\n",
    "\n",
    "\n",
    "#Fibonacci number to be calculated\n",
    "n=40\n",
    "\n",
    "#Recursive fibonacci\n",
    "#time's counter start [s]\n",
    "start=time()\n",
    "#Call fibonacci\n",
    "result=fibonacci_recursivo(n)\n",
    "#time's counter end [s]\n",
    "end=time()\n",
    "#Result\n",
    "print('Recursive Fibonacci Normal of {} = {} in {}[s]'.format(n, result, end-start))\n",
    "\n",
    "#Dinamic fibonacci\n",
    "#time's counter start [s]\n",
    "start=time()\n",
    "#Call fibonacci\n",
    "result=fibonacci_dinamico(n)\n",
    "#time's counter end [s]\n",
    "end=time()\n",
    "#Result\n",
    "print('Fibonacci with Memoization {} = {} in {}[s]'.format(n, result, end-start))"
   ]
  },
  {
   "cell_type": "code",
   "execution_count": null,
   "metadata": {},
   "outputs": [],
   "source": [
    "            "
   ]
  },
  {
   "cell_type": "code",
   "execution_count": null,
   "metadata": {},
   "outputs": [],
   "source": []
  },
  {
   "cell_type": "code",
   "execution_count": null,
   "metadata": {},
   "outputs": [],
   "source": []
  }
 ],
 "metadata": {
  "kernelspec": {
   "display_name": "Python 3",
   "language": "python",
   "name": "python3"
  },
  "language_info": {
   "codemirror_mode": {
    "name": "ipython",
    "version": 3
   },
   "file_extension": ".py",
   "mimetype": "text/x-python",
   "name": "python",
   "nbconvert_exporter": "python",
   "pygments_lexer": "ipython3",
   "version": "3.7.9"
  }
 },
 "nbformat": 4,
 "nbformat_minor": 4
}
